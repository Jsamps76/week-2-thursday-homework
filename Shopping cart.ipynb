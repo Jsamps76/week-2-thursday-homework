{
 "cells": [
  {
   "cell_type": "code",
   "execution_count": null,
   "metadata": {},
   "outputs": [
    {
     "name": "stdout",
     "output_type": "stream",
     "text": [
      "\n",
      "Type 'ADD' to add an item to the cart.\n",
      "Type 'REMOVE' to remove an item from the cart.\n",
      "Type 'CLEAR' to remove an item from the cart.\n",
      "Type 'SHOW' to show your current list of items.\n",
      "Type 'QUIT' to exit the program.\n",
      "--------------------------------------------------------------------------------\n"
     ]
    }
   ],
   "source": [
    "from IPython.display import clear_output\n",
    "\n",
    "def instructions():\n",
    "    print(\"\"\"\n",
    "Type 'ADD' to add an item to the cart.\n",
    "Type 'REMOVE' to remove an item from the cart.\n",
    "Type 'CLEAR' to remove an item from the cart.\n",
    "Type 'SHOW' to show your current list of items.\n",
    "Type 'QUIT' to exit the program.\"\"\")\n",
    "    print('-' * 80)   \n",
    "    \n",
    "def show(a_list):\n",
    "    if not a_list:\n",
    "        print(\"You have no items in your cart. Please add some. \")\n",
    "    else:\n",
    "        for i,v in enumerate(list(set(a_list))):\n",
    "            print(f\"{i+1}: {v} [{a_list.count(v)}]\")\n",
    "        \n",
    "def add(a_list, item):\n",
    "    a_list.append(item)\n",
    "    \n",
    "def remove(a_list, item):\n",
    "    a_list.remove(item)\n",
    "    \n",
    "#class Cart:\n",
    "    #pass\n",
    "    \n",
    "# Perpetually ask user to put item into a shopping cart\n",
    "\n",
    "def main():\n",
    "    shopping_cart = []\n",
    "\n",
    "    while True:\n",
    "        instructions()\n",
    "        ask = input(\"What would you like to do? **See instructions for directions** \").lower()\n",
    "        clear_output()\n",
    "        if ask == 'add':\n",
    "            item = input(\"What item would you like to add? \")\n",
    "            add(shopping_cart, item)\n",
    "            clear_output()\n",
    "        elif ask == 'clear':\n",
    "            clear_output()\n",
    "            confirm = input(\"To confirm deleting all items, press any key. To cancel, type 'cancel' \")\n",
    "            if confirm.lower() != 'cancel':\n",
    "                shopping_cart = []\n",
    "            else:\n",
    "                continue\n",
    "            clear_output()\n",
    "        elif ask == 'show':\n",
    "            clear_output()\n",
    "            show(shopping_cart)\n",
    "        elif ask == 'quit':\n",
    "            break\n",
    "            \n",
    "    clear_input()\n",
    "    return show(shopping_cart)\n",
    "\n",
    "main()\n",
    "            \n"
   ]
  },
  {
   "cell_type": "code",
   "execution_count": null,
   "metadata": {},
   "outputs": [],
   "source": []
  },
  {
   "cell_type": "code",
   "execution_count": null,
   "metadata": {},
   "outputs": [],
   "source": []
  },
  {
   "cell_type": "code",
   "execution_count": null,
   "metadata": {},
   "outputs": [],
   "source": []
  }
 ],
 "metadata": {
  "kernelspec": {
   "display_name": "Python 3",
   "language": "python",
   "name": "python3"
  },
  "language_info": {
   "codemirror_mode": {
    "name": "ipython",
    "version": 3
   },
   "file_extension": ".py",
   "mimetype": "text/x-python",
   "name": "python",
   "nbconvert_exporter": "python",
   "pygments_lexer": "ipython3",
   "version": "3.8.3"
  }
 },
 "nbformat": 4,
 "nbformat_minor": 4
}
